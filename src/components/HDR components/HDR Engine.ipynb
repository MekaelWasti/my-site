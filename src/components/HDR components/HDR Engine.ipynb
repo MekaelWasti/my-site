{
 "cells": [
  {
   "cell_type": "code",
   "execution_count": 32,
   "metadata": {},
   "outputs": [],
   "source": [
    "import torch\n",
    "import torch.nn as nn\n",
    "import torch.optim as optim\n",
    "import torchvision.datasets as datasets\n",
    "import torchvision.transforms as transforms\n",
    "from torch.utils.data import random_split\n",
    "\n",
    "import numpy as np\n",
    "import matplotlib.pyplot as plt\n",
    "import pandas as pd\n",
    "import time\n",
    "from tqdm import tqdm"
   ]
  },
  {
   "cell_type": "code",
   "execution_count": 33,
   "metadata": {},
   "outputs": [],
   "source": [
    "# Data agnostic\n",
    "device = \"cuda\" if torch.cuda.is_available() else \"cpu\""
   ]
  },
  {
   "attachments": {},
   "cell_type": "markdown",
   "metadata": {},
   "source": [
    "Make CNN for MNIST handwritten digit recognition"
   ]
  },
  {
   "cell_type": "code",
   "execution_count": 45,
   "metadata": {},
   "outputs": [],
   "source": [
    "# Hyperparameters\n",
    "batch_size = 64\n",
    "learning_rate = 0.001\n",
    "num_epochs = 10"
   ]
  },
  {
   "cell_type": "code",
   "execution_count": 47,
   "metadata": {},
   "outputs": [],
   "source": [
    "# Load the MNIST dataset\n",
    "trainDataset = datasets.MNIST(root='data/', train=True, transform=transforms.ToTensor(), download=True)\n",
    "testDataset = datasets.MNIST(root='data/', train=False, transform=transforms.ToTensor())\n",
    "\n",
    "# Create data loaders\n",
    "trainLoader = torch.utils.data.DataLoader(dataset=trainDataset, batch_size=batch_size, shuffle=True)\n",
    "testLoader = torch.utils.data.DataLoader(dataset=testDataset, batch_size=batch_size, shuffle=False)\n"
   ]
  },
  {
   "cell_type": "code",
   "execution_count": 87,
   "metadata": {},
   "outputs": [
    {
     "data": {
      "text/plain": [
       "torch.Size([28, 28])"
      ]
     },
     "execution_count": 87,
     "metadata": {},
     "output_type": "execute_result"
    },
    {
     "data": {
      "image/png": "[encoded data removed]",
      "text/plain": [
       "<Figure size 640x480 with 1 Axes>"
      ]
     },
     "metadata": {},
     "output_type": "display_data"
    }
   ],
   "source": [
    "randInd = torch.randint(0,10,(1,))\n",
    "image, label = testDataset[randInd.item()]\n",
    "plt.imshow(image.squeeze(), cmap='gray')\n",
    "\n",
    "image.squeeze().shape"
   ]
  },
  {
   "attachments": {},
   "cell_type": "markdown",
   "metadata": {},
   "source": [
    "CNN Model"
   ]
  },
  {
   "cell_type": "code",
   "execution_count": 35,
   "metadata": {},
   "outputs": [],
   "source": [
    "class LeNet(nn.Module):\n",
    "    def __init__(self, channels, classes):\n",
    "        super(LeNet,self).__init__()\n",
    "        \n",
    "        # LeNet Architecture\n",
    "        \n",
    "        # First Block\n",
    "        self.convBlock1 = nn.Conv2d(channels, 20, (5,5))\n",
    "        self.relu1 = nn.ReLU()\n",
    "        self.maxpool1 = nn.MaxPool2d((2,2), (2,2))\n",
    "\n",
    "        # Second Block\n",
    "        self.convBlock2 = nn.Conv2d(20,50, (5,5))\n",
    "        self.relu2 = nn.ReLU()\n",
    "        self.maxpool2 = nn.MaxPool2d((2,2), (2,2))\n",
    "\n",
    "        # Fully Connected Layer\n",
    "        self.fullyConnected1 = nn.Linear(800,500)\n",
    "        self.relu3 = nn.ReLU()\n",
    "\n",
    "        # Softmax for logit to predictions\n",
    "        self.fullyConnected2 = nn.Linear(500,classes)\n",
    "        self.logSoftmax = nn.LogSoftmax(dim=1)\n",
    "\n",
    "    def forward(self,x):\n",
    "\n",
    "        # First Block Pass\n",
    "        x = self.maxpool1(self.relu1(self.convBlock1(x)))\n",
    "        \n",
    "        # Second Block Pass\n",
    "        x = self.maxpool2(self.relu2(self.convBlock2(x)))\n",
    "        \n",
    "        # Flatten and pass to Fully Connected Layer\n",
    "        x = self.relu3(self.fullyConnected1(torch.flatten(x,1)))\n",
    "\n",
    "        # Softmax Pass\n",
    "        x = self.fullyConnected2(x)\n",
    "        output = self.logSoftmax(x)\n",
    "\n",
    "        return output\n"
   ]
  },
  {
   "attachments": {},
   "cell_type": "markdown",
   "metadata": {},
   "source": [
    "Train Init"
   ]
  },
  {
   "cell_type": "code",
   "execution_count": null,
   "metadata": {},
   "outputs": [],
   "source": [
    "# HYPERPARAMETERS\n",
    "lr = 1e-3\n",
    "lr = 1e-6\n",
    "# lr = 0.01\n",
    "BATCH_SIZE = 32\n",
    "epochs = 100\n",
    "\n",
    "# Split data\n",
    "trainSplit = 0.8\n",
    "valSplit = 1-trainSplit\n",
    "\n",
    "trainSamples = int(len(trainDataset) * trainSplit)\n",
    "valSamples = int(round(len(trainDataset) * valSplit,0))\n",
    "\n",
    "(trainData, valData) = random_split(trainDataset, [trainSamples, valSamples], generator=torch.Generator().manual_seed(42))"
   ]
  },
  {
   "cell_type": "code",
   "execution_count": null,
   "metadata": {},
   "outputs": [],
   "source": [
    "# Loaders\n",
    "trainLoader = torch.utils.data.DataLoader(trainData, shuffle=True, batch_size=BATCH_SIZE)\n",
    "valLoader = torch.utils.data.DataLoader(valData, batch_size=BATCH_SIZE)\n",
    "testLoader = torch.utils.data.DataLoader(testDataset, batch_size=BATCH_SIZE)\n",
    "\n",
    "\n",
    "# Batches\n",
    "trainBatches = len(trainLoader.dataset) // BATCH_SIZE\n",
    "valBatches = len(valLoader.dataset) // BATCH_SIZE"
   ]
  },
  {
   "cell_type": "code",
   "execution_count": null,
   "metadata": {},
   "outputs": [],
   "source": [
    "# Init\n",
    "\n",
    "model = LeNet(1,len(trainData.dataset.classes)).to(device)\n",
    "optimizer = torch.optim.Adam(model.parameters(), lr = lr)\n",
    "lossFn = nn.NLLLoss()\n",
    "\n",
    "modelRes = {\n",
    "    \"train_loss\" : [],\n",
    "    \"train_acc\" : [],\n",
    "    \"val_loss\" : [],\n",
    "    \"val_acc\" : []\n",
    "}\n",
    "\n",
    "# Timing\n",
    "startTime = time.time()"
   ]
  },
  {
   "attachments": {},
   "cell_type": "markdown",
   "metadata": {},
   "source": [
    "Training and Testing Loop"
   ]
  },
  {
   "cell_type": "code",
   "execution_count": null,
   "metadata": {},
   "outputs": [],
   "source": [
    "# Training Loop\n",
    "\n",
    "for epoch in tqdm(range(epochs), desc=\"Training Epochs\"):\n",
    "    \n",
    "    model.train()\n",
    "\n",
    "     # Create inner tqdm progress bar for batches\n",
    "    train_batch_progress = tqdm(trainLoader, desc=f\"Epoch {epoch+1}/{epochs}\", unit=\"batch\")\n",
    "\n",
    "    totalTrainLoss = 0\n",
    "    totalValLoss = 0\n",
    "\n",
    "    trainCorrect = 0\n",
    "    valCorrect = 0\n",
    "\n",
    "\n",
    "    # Forward Pass\n",
    "    for (x,y) in train_batch_progress:\n",
    "        (x,y) = (x.to(device),y.to(device))\n",
    "\n",
    "        # Loss\n",
    "        pred = model(x)\n",
    "        loss = lossFn(pred, y)\n",
    "    \n",
    "        # Optimizer Zero Grad\n",
    "        optimizer.zero_grad()\n",
    "    \n",
    "        # Loss Backward\n",
    "        loss.backward()\n",
    "\n",
    "        # Optimizer Step \n",
    "        optimizer.step()\n",
    "\n",
    "        totalTrainLoss += loss.item()\n",
    "        totalTrainLoss = loss\n",
    "        trainCorrect += (pred.argmax(1) == y).type(torch.float).sum().item() \n",
    "    \n",
    "    model.eval()\n",
    "    with torch.inference_mode():\n",
    "        for (xVal, yVal) in valLoader:\n",
    "            (xVal, yVal) = (xVal.to(device), yVal.to(device))\n",
    "\n",
    "            # Forward Pass\n",
    "            valPred = model(xVal)\n",
    "\n",
    "            # Loss\n",
    "            valLoss = lossFn(valPred, yVal)\n",
    "            totalValLoss += valLoss.item()\n",
    "            totalValLoss = valLoss\n",
    "\n",
    "            valCorrect += (valPred.argmax(1) == yVal).type(torch.float).sum().item() \n",
    "\n",
    "    print(f'Train Loss: {totalTrainLoss} | Val Loss: {totalValLoss} | Val Correct: {valCorrect}')\n",
    "\n",
    "        \n",
    "\n"
   ]
  },
  {
   "cell_type": "code",
   "execution_count": 82,
   "metadata": {},
   "outputs": [
    {
     "data": {
      "image/png": "[encoded data removed]",
      "text/plain": [
       "<Figure size 1000x400 with 20 Axes>"
      ]
     },
     "metadata": {},
     "output_type": "display_data"
    }
   ],
   "source": [
    "n = 20\n",
    "cols = 5\n",
    "fig, axs = plt.subplots(nrows=n//cols, ncols=cols, figsize=(10, 4))\n",
    "\n",
    "\n",
    "for i in range(n):\n",
    "\n",
    "    randInd = torch.randint(0,len(testDataset),(1,))\n",
    "    image, label = testDataset[randInd.item()]\n",
    "\n",
    "    axs[i // 5, i % 5].imshow(image.squeeze(), cmap=\"gray\")\n",
    "    axs[i // 5, i % 5].axis(\"off\")\n",
    "\n",
    "    model.eval()\n",
    "    with torch.inference_mode():\n",
    "        prediction = model(image.unsqueeze(0).to(device))\n",
    "\n",
    "\n",
    "    predicted_class = torch.argmax(prediction).item()\n",
    "    # print(\"Ground truth label:\", label)\n",
    "    # print(f\"Predicted Digit: {predicted_class}\")\n",
    "\n",
    "    res = \"\"\n",
    "    if label == predicted_class:\n",
    "        res = \"TRUE\"\n",
    "        # print(\"TRUE\")\n",
    "    else:\n",
    "        res = \"FALSE\"\n",
    "        # print(\"FALSE\")\n",
    "   \n",
    "    axs[i // 5, i % 5].set_title(f\"Predicted: {predicted_class}\\nActual: {label}\\n{res}\")\n",
    "\n",
    "plt.tight_layout()\n",
    "plt.show()"
   ]
  },
  {
   "attachments": {},
   "cell_type": "markdown",
   "metadata": {},
   "source": [
    "Save Model"
   ]
  },
  {
   "cell_type": "code",
   "execution_count": 114,
   "metadata": {},
   "outputs": [],
   "source": [
    "# Save Model\n",
    "import os\n",
    "\n",
    "baseName = \"HDR.pth\"\n",
    "i = 1\n",
    "fileName = baseName\n",
    "\n",
    "while os.path.exists(fileName):\n",
    "    fileName = f\"{os.path.splitext(baseName)[0]}_{i}.pth\"\n",
    "    i += 1\n",
    "\n",
    "torch.save(model.state_dict(), fileName)"
   ]
  },
  {
   "cell_type": "code",
   "execution_count": 94,
   "metadata": {},
   "outputs": [
    {
     "name": "stdout",
     "output_type": "stream",
     "text": [
      "torch.Size([1, 28, 28])\n"
     ]
    },
    {
     "data": {
      "text/plain": [
       "(-0.5, 27.5, 27.5, -0.5)"
      ]
     },
     "execution_count": 94,
     "metadata": {},
     "output_type": "execute_result"
    },
    {
     "data": {
      "image/png": "[encoded data removed]",
      "text/plain": [
       "<Figure size 640x480 with 1 Axes>"
      ]
     },
     "metadata": {},
     "output_type": "display_data"
    }
   ],
   "source": [
    "import base64\n",
    "from io import BytesIO\n",
    "import numpy as np\n",
    "import matplotlib.pyplot as plt\n",
    "\n",
    "from PIL import Image\n",
    "import torchvision.transforms\n",
    "from torchvision.transforms import Resize, ToTensor, Grayscale\n",
    "\n",
    "x = \"\"\n",
    "# x = x.split(\",\")[1]\n",
    "# print(x)\n",
    "\n",
    "\n",
    "x = base64.b64decode(x)\n",
    "image_array = np.frombuffer(x, np.uint8)\n",
    "image = plt.imread(BytesIO(image_array))\n",
    "\n",
    "# plt.imshow(image)\n",
    "# plt.axis(\"off\")\n",
    "\n",
    "x = \"\"\n",
    "\n",
    "x = base64.b64decode(x)\n",
    "image = Image.open(BytesIO(x))\n",
    "desiredSize = (28,28)\n",
    "\n",
    "# Transform\n",
    "transform = transforms.Compose([\n",
    "    Resize(desiredSize),\n",
    "    transforms.Grayscale(),\n",
    "    ToTensor(),\n",
    "])\n",
    "transformed_image = transform(image)\n",
    "\n",
    "\n",
    "print(transformed_image.shape)\n",
    "\n",
    "a = transformed_image.numpy()\n",
    "a = a.transpose(1,2,0)\n",
    "plt.imshow(a, cmap=\"gray\")\n",
    "plt.axis(\"off\")"
   ]
  },
  {
   "cell_type": "code",
   "execution_count": 81,
   "metadata": {},
   "outputs": [],
   "source": [
    "model = LeNet(1,10)\n",
    "state_dict = torch.load(\"HDR.pth\", torch.device(device))\n",
    "model.load_state_dict(state_dict)\n",
    "model = model.to(device)"
   ]
  },
  {
   "cell_type": "code",
   "execution_count": 93,
   "metadata": {},
   "outputs": [
    {
     "data": {
      "text/plain": [
       "5"
      ]
     },
     "execution_count": 93,
     "metadata": {},
     "output_type": "execute_result"
    }
   ],
   "source": [
    "# model(transformed_image.squeeze())\n",
    "# torch.argmax(model(image.unsqueeze(0).to(device))).item()\n",
    "torch.argmax(model(transformed_image.unsqueeze(0).to(device))).item()\n"
   ]
  }
 ],
 "metadata": {
  "kernelspec": {
   "display_name": "Python 3",
   "language": "python",
   "name": "python3"
  },
  "language_info": {
   "codemirror_mode": {
    "name": "ipython",
    "version": 3
   },
   "file_extension": ".py",
   "mimetype": "text/x-python",
   "name": "python",
   "nbconvert_exporter": "python",
   "pygments_lexer": "ipython3",
   "version": "3.11.2"
  },
  "orig_nbformat": 4
 },
 "nbformat": 4,
 "nbformat_minor": 2
}
